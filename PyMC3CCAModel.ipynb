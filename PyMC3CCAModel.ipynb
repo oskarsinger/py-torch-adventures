{
 "cells": [
  {
   "cell_type": "code",
   "execution_count": 1,
   "metadata": {
    "collapsed": false
   },
   "outputs": [],
   "source": [
    "import pymc3 as pm\n",
    "import numpy as np"
   ]
  },
  {
   "cell_type": "code",
   "execution_count": 2,
   "metadata": {
    "collapsed": true
   },
   "outputs": [],
   "source": [
    "T = 1000\n",
    "k = 5\n",
    "d1 = 20\n",
    "d2 = 30"
   ]
  },
  {
   "cell_type": "code",
   "execution_count": 3,
   "metadata": {
    "collapsed": true
   },
   "outputs": [],
   "source": [
    "W1 = np.random.randn(d1, k)\n",
    "W2 = np.random.randn(d2, k)\n",
    "mu1 = np.random.randn(d1, 1)\n",
    "mu2 = np.random.randn(d2, 1)\n",
    "pre_Psi1 = np.random.randn(2 * d1, d1)\n",
    "Psi1 = np.dot(pre_Psi1.T, pre_Psi1)\n",
    "pre_Psi2 = np.random.randn(2 * d2, d2)\n",
    "Psi2 = np.dot(pre_Psi2.T, pre_Psi2)"
   ]
  },
  {
   "cell_type": "code",
   "execution_count": 4,
   "metadata": {
    "collapsed": true
   },
   "outputs": [],
   "source": [
    "Psi1_sqrt = np.linalg.cholesky(Psi1)\n",
    "Psi2_sqrt = np.linalg.cholesky(Psi2)"
   ]
  },
  {
   "cell_type": "code",
   "execution_count": 5,
   "metadata": {
    "collapsed": false
   },
   "outputs": [],
   "source": [
    "Z = np.random.randn(T, k)\n",
    "Z_lift1 = np.dot(W1, Z.T).T\n",
    "Z_lift2 = np.dot(W2, Z.T).T\n",
    "Z_shift1 = Z_lift1 + mu1.T\n",
    "Z_shift2 = Z_lift2 + mu2.T\n",
    "X1_noise = np.random.randn(T, d1)\n",
    "X2_noise = np.random.randn(T, d2)\n",
    "X1 = np.dot(X1_noise, Psi1_sqrt) + Z_shift1\n",
    "X2 = np.dot(X2_noise, Psi2_sqrt) + Z_shift2"
   ]
  },
  {
   "cell_type": "code",
   "execution_count": 6,
   "metadata": {
    "collapsed": false
   },
   "outputs": [
    {
     "name": "stdout",
     "output_type": "stream",
     "text": [
      "[[  3.33401584  10.64728792  13.82630138 ...,  -0.52312009  -2.14791984\n",
      "   11.2942102 ]\n",
      " [ -1.43581971   1.09525442  17.10016658 ...,  -0.90589106  -1.73072043\n",
      "    0.37660626]\n",
      " [  2.64919251  -9.86593874 -21.0143882  ...,   3.81349619  -5.49531794\n",
      "  -11.62867467]\n",
      " ..., \n",
      " [  0.37630666 -13.89471274   0.54882232 ...,  12.36101795   1.59105052\n",
      "   -3.16888104]\n",
      " [-11.40718361  17.35840044  12.14152536 ...,   3.26909135  -1.08402167\n",
      "    6.20531117]\n",
      " [  0.62768025  -9.33015414   8.82250742 ...,   0.55885336   1.47142527\n",
      "    7.36688892]]\n",
      "[[ -0.26442644  -9.96782253  22.63418662 ...,  -5.12436896   0.32786751\n",
      "   11.09903507]\n",
      " [  1.90529576   9.43013045  -3.34520628 ...,   3.84116991  -1.0254626\n",
      "  -10.05731376]\n",
      " [  0.85162623   0.09491229   6.95024424 ...,  -0.95951293  -0.18701062\n",
      "    7.60312167]\n",
      " ..., \n",
      " [-14.53892887  -4.54217791  -4.76362778 ...,  -6.22291993   1.21701747\n",
      "   -3.15814095]\n",
      " [  5.95695681  15.20629375   0.28164217 ...,   8.26632552  -5.14262207\n",
      "    2.82002565]\n",
      " [ -9.28056866  -2.25466547  -1.56579025 ...,   3.28425595   6.68867223\n",
      "    4.52166856]]\n"
     ]
    }
   ],
   "source": [
    "print(X1)\n",
    "print(X2)"
   ]
  },
  {
   "cell_type": "code",
   "execution_count": 7,
   "metadata": {
    "collapsed": false
   },
   "outputs": [],
   "source": [
    "model = pm.Model()\n",
    "\n",
    "with model:\n",
    "    # Priors on Z-lifting matrices\n",
    "    W1_var = pm.Normal('W1', shape=(d1,k))\n",
    "    W2_var = pm.Normal('W2', shape=(d2,k))\n",
    "    \n",
    "    # Priors on X means\n",
    "    mu1_var = pm.Normal('mu1', shape=(d1,1))\n",
    "    mu2_var = pm.Normal('mu2', shape=(d2,1))\n",
    "    \n",
    "    # Priors on covariance matrices\n",
    "    Psi1_var = pm.LKJCholeskyCov(\n",
    "        'Psi1', n=d1, eta=2., sd_dist=pm.HalfCauchy.dist(2.5))\n",
    "    Psi2_var = pm.LKJCholeskyCov(\n",
    "        'Psi2', n=d2, eta=2., sd_dist=pm.HalfCauchy.dist(2.5))\n",
    "    \n",
    "    # SDs for the Xs\n",
    "    L1 = pm.expand_packed_triangular(d1, Psi1_var)\n",
    "    L2 = pm.expand_packed_triangular(d2, Psi2_var)\n",
    "    \n",
    "    # Likelihood on Z\n",
    "    Z_var = pm.Normal('Z', shape=(T,k))\n",
    "    \n",
    "    # Means for conditional likelihood on Xs conditioned on Z\n",
    "    Z_lift1_var = W1_var.dot(Z_var.T).T\n",
    "    Z_lift2_var = W2_var.dot(Z_var.T).T\n",
    "    Z_shift1_var = Z_lift1_var + mu1_var.T\n",
    "    Z_shift2_var = Z_lift2_var + mu2_var.T\n",
    "    \n",
    "    # Conditional likelihoods of Xs conditioned on Z\n",
    "    X1_var = pm.MvNormal(name='X1', mu=Z_shift1_var, chol=L1, observed=X1)\n",
    "    X2_var = pm.MvNormal(name='X2', mu=Z_shift2_var, chol=L2, observed=X2)\n",
    "    \n",
    "    pm.sample(live_plot)"
   ]
  },
  {
   "cell_type": "code",
   "execution_count": 11,
   "metadata": {
    "collapsed": false
   },
   "outputs": [
    {
     "name": "stderr",
     "output_type": "stream",
     "text": [
      "  0%|          | 0/5000 [00:00<?, ?it/s]\n"
     ]
    },
    {
     "ename": "ValueError",
     "evalue": "Unknown solver NUTS",
     "output_type": "error",
     "traceback": [
      "\u001b[0;31m---------------------------------------------------------------------------\u001b[0m",
      "\u001b[0;31mValueError\u001b[0m                                Traceback (most recent call last)",
      "\u001b[0;32m<ipython-input-11-7a403adf53f9>\u001b[0m in \u001b[0;36m<module>\u001b[0;34m()\u001b[0m\n\u001b[0;32m----> 1\u001b[0;31m \u001b[0mmap_estimate\u001b[0m \u001b[0;34m=\u001b[0m \u001b[0mpm\u001b[0m\u001b[0;34m.\u001b[0m\u001b[0mfind_MAP\u001b[0m\u001b[0;34m(\u001b[0m\u001b[0mmodel\u001b[0m\u001b[0;34m=\u001b[0m\u001b[0mmodel\u001b[0m\u001b[0;34m,\u001b[0m \u001b[0mmethod\u001b[0m\u001b[0;34m=\u001b[0m\u001b[0;34m'NUTS'\u001b[0m\u001b[0;34m)\u001b[0m\u001b[0;34m\u001b[0m\u001b[0m\n\u001b[0m",
      "\u001b[0;32m/home/oskarsinger/anaconda3/lib/python3.5/site-packages/pymc3/tuning/starting.py\u001b[0m in \u001b[0;36mfind_MAP\u001b[0;34m(start, vars, method, return_raw, include_transformed, progressbar, maxeval, model, *args, **kwargs)\u001b[0m\n\u001b[1;32m    120\u001b[0m \u001b[0;34m\u001b[0m\u001b[0m\n\u001b[1;32m    121\u001b[0m         \u001b[0;32mtry\u001b[0m\u001b[0;34m:\u001b[0m\u001b[0;34m\u001b[0m\u001b[0m\n\u001b[0;32m--> 122\u001b[0;31m             \u001b[0mopt_result\u001b[0m \u001b[0;34m=\u001b[0m \u001b[0mminimize\u001b[0m\u001b[0;34m(\u001b[0m\u001b[0mcost_func\u001b[0m\u001b[0;34m,\u001b[0m \u001b[0mx0\u001b[0m\u001b[0;34m,\u001b[0m \u001b[0mmethod\u001b[0m\u001b[0;34m=\u001b[0m\u001b[0mmethod\u001b[0m\u001b[0;34m,\u001b[0m \u001b[0mjac\u001b[0m\u001b[0;34m=\u001b[0m\u001b[0mcompute_gradient\u001b[0m\u001b[0;34m,\u001b[0m \u001b[0;34m*\u001b[0m\u001b[0margs\u001b[0m\u001b[0;34m,\u001b[0m \u001b[0;34m**\u001b[0m\u001b[0mkwargs\u001b[0m\u001b[0;34m)\u001b[0m\u001b[0;34m\u001b[0m\u001b[0m\n\u001b[0m\u001b[1;32m    123\u001b[0m             \u001b[0mmx0\u001b[0m \u001b[0;34m=\u001b[0m \u001b[0mopt_result\u001b[0m\u001b[0;34m[\u001b[0m\u001b[0;34m\"x\"\u001b[0m\u001b[0;34m]\u001b[0m  \u001b[0;31m# r -> opt_result\u001b[0m\u001b[0;34m\u001b[0m\u001b[0m\n\u001b[1;32m    124\u001b[0m             \u001b[0mcost_func\u001b[0m\u001b[0;34m.\u001b[0m\u001b[0mprogress\u001b[0m\u001b[0;34m.\u001b[0m\u001b[0mtotal\u001b[0m \u001b[0;34m=\u001b[0m \u001b[0mcost_func\u001b[0m\u001b[0;34m.\u001b[0m\u001b[0mprogress\u001b[0m\u001b[0;34m.\u001b[0m\u001b[0mn\u001b[0m \u001b[0;34m+\u001b[0m \u001b[0;36m1\u001b[0m\u001b[0;34m\u001b[0m\u001b[0m\n",
      "\u001b[0;32m/home/oskarsinger/anaconda3/lib/python3.5/site-packages/scipy/optimize/_minimize.py\u001b[0m in \u001b[0;36mminimize\u001b[0;34m(fun, x0, args, method, jac, hess, hessp, bounds, constraints, tol, callback, options)\u001b[0m\n\u001b[1;32m    464\u001b[0m                                    callback=callback, **options)\n\u001b[1;32m    465\u001b[0m     \u001b[0;32melse\u001b[0m\u001b[0;34m:\u001b[0m\u001b[0;34m\u001b[0m\u001b[0m\n\u001b[0;32m--> 466\u001b[0;31m         \u001b[0;32mraise\u001b[0m \u001b[0mValueError\u001b[0m\u001b[0;34m(\u001b[0m\u001b[0;34m'Unknown solver %s'\u001b[0m \u001b[0;34m%\u001b[0m \u001b[0mmethod\u001b[0m\u001b[0;34m)\u001b[0m\u001b[0;34m\u001b[0m\u001b[0m\n\u001b[0m\u001b[1;32m    467\u001b[0m \u001b[0;34m\u001b[0m\u001b[0m\n\u001b[1;32m    468\u001b[0m \u001b[0;34m\u001b[0m\u001b[0m\n",
      "\u001b[0;31mValueError\u001b[0m: Unknown solver NUTS"
     ]
    }
   ],
   "source": [
    "map_estimate = pm.find_MAP(model=model, method='NUTS')"
   ]
  },
  {
   "cell_type": "code",
   "execution_count": 9,
   "metadata": {
    "collapsed": false
   },
   "outputs": [
    {
     "data": {
      "text/plain": [
       "dict_keys(['Z', 'mu1', 'Psi2_cholesky_cov_packed__', 'mu2', 'Psi1_cholesky_cov_packed__', 'Psi2', 'W1', 'Psi1', 'W2'])"
      ]
     },
     "execution_count": 9,
     "metadata": {},
     "output_type": "execute_result"
    }
   ],
   "source": [
    "map_estimate.keys()"
   ]
  },
  {
   "cell_type": "code",
   "execution_count": 10,
   "metadata": {
    "collapsed": false
   },
   "outputs": [
    {
     "name": "stdout",
     "output_type": "stream",
     "text": [
      "Help on function find_MAP in module pymc3.tuning.starting:\n",
      "\n",
      "find_MAP(start=None, vars=None, method='L-BFGS-B', return_raw=False, include_transformed=True, progressbar=True, maxeval=5000, model=None, *args, **kwargs)\n",
      "    Finds the local maximum a posteriori point given a model.\n",
      "    \n",
      "    Parameters\n",
      "    ----------\n",
      "    start : `dict` of parameter values (Defaults to `model.test_point`)\n",
      "    vars : list\n",
      "        List of variables to optimize and set to optimum (Defaults to all continuous).\n",
      "    method : string or callable\n",
      "        Optimization algorithm (Defaults to 'L-BFGS-B' unless\n",
      "        discrete variables are specified in `vars`, then\n",
      "        `Powell` which will perform better).  For instructions on use of a callable,\n",
      "        refer to SciPy's documentation of `optimize.minimize`.\n",
      "    return_raw : bool\n",
      "        Whether to return the full output of scipy.optimize.minimize (Defaults to `False`)\n",
      "    include_transformed : bool\n",
      "        Flag for reporting automatically transformed variables in addition\n",
      "        to original variables (defaults to False).\n",
      "    progressbar : bool\n",
      "        Whether or not to display a progress bar in the command line.\n",
      "    maxeval : int\n",
      "        The maximum number of times the posterior distribution is evaluated.\n",
      "    model : Model (optional if in `with` context)\n",
      "    *args, **kwargs\n",
      "        Extra args passed to scipy.optimize.minimize\n",
      "\n"
     ]
    }
   ],
   "source": [
    "help(pm.find_MAP)"
   ]
  },
  {
   "cell_type": "markdown",
   "metadata": {},
   "source": []
  }
 ],
 "metadata": {
  "anaconda-cloud": {},
  "kernelspec": {
   "display_name": "Python [conda root]",
   "language": "python",
   "name": "conda-root-py"
  },
  "language_info": {
   "codemirror_mode": {
    "name": "ipython",
    "version": 3
   },
   "file_extension": ".py",
   "mimetype": "text/x-python",
   "name": "python",
   "nbconvert_exporter": "python",
   "pygments_lexer": "ipython3",
   "version": "3.5.2"
  }
 },
 "nbformat": 4,
 "nbformat_minor": 1
}
