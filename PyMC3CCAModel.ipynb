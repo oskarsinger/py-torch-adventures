{
 "cells": [
  {
   "cell_type": "code",
   "execution_count": 1,
   "metadata": {
    "collapsed": false
   },
   "outputs": [],
   "source": [
    "import pymc3 as pm\n",
    "import numpy as np"
   ]
  },
  {
   "cell_type": "code",
   "execution_count": 2,
   "metadata": {
    "collapsed": true
   },
   "outputs": [],
   "source": [
    "# Set number of data points\n",
    "T = 1000\n",
    "\n",
    "# Set true dimension of underlying phenomenon Z\n",
    "k = 5\n",
    "\n",
    "# Set dimensions of observations\n",
    "d1 = 20\n",
    "d2 = 30"
   ]
  },
  {
   "cell_type": "code",
   "execution_count": 3,
   "metadata": {
    "collapsed": true
   },
   "outputs": [],
   "source": [
    "# Generate lifting transformations\n",
    "W1 = np.random.randn(d1, k)\n",
    "W2 = np.random.randn(d2, k)\n",
    "\n",
    "# Generate observation means\n",
    "mu1 = np.random.randn(d1, 1)\n",
    "mu2 = np.random.randn(d2, 1)\n",
    "\n",
    "# Generate observation covariance; should sample these from LKJ\n",
    "pre_Psi1 = np.random.randn(2 * d1, d1)\n",
    "Psi1 = np.dot(pre_Psi1.T, pre_Psi1)\n",
    "pre_Psi2 = np.random.randn(2 * d2, d2)\n",
    "Psi2 = np.dot(pre_Psi2.T, pre_Psi2)"
   ]
  },
  {
   "cell_type": "code",
   "execution_count": 4,
   "metadata": {
    "collapsed": true
   },
   "outputs": [],
   "source": [
    "# Compute 'standard deviation' matrices\n",
    "Psi1_sqrt = np.linalg.cholesky(Psi1)\n",
    "Psi2_sqrt = np.linalg.cholesky(Psi2)"
   ]
  },
  {
   "cell_type": "code",
   "execution_count": 5,
   "metadata": {
    "collapsed": false
   },
   "outputs": [],
   "source": [
    "# Generate underlying phenomenon Z\n",
    "Z = np.random.randn(T, k)\n",
    "\n",
    "# Use lifting transformations to get distorted Zs\n",
    "Z_lift1 = np.dot(W1, Z.T).T\n",
    "Z_lift2 = np.dot(W2, Z.T).T\n",
    "\n",
    "# Shift Z by mean of observations\n",
    "Z_shift1 = Z_lift1 + mu1.T\n",
    "Z_shift2 = Z_lift2 + mu2.T\n",
    "\n",
    "# Generate white noise for Xs\n",
    "X1_noise = np.random.randn(T, d1)\n",
    "X2_noise = np.random.randn(T, d2)\n",
    "\n",
    "# Scale and shift noise to match observation distributions\n",
    "X1 = np.dot(X1_noise, Psi1_sqrt) + Z_shift1\n",
    "X2 = np.dot(X2_noise, Psi2_sqrt) + Z_shift2"
   ]
  },
  {
   "cell_type": "code",
   "execution_count": null,
   "metadata": {
    "collapsed": false
   },
   "outputs": [
    {
     "name": "stderr",
     "output_type": "stream",
     "text": [
      "Auto-assigning NUTS sampler...\n",
      "Initializing NUTS using jitter+adapt_diag...\n",
      "Multiprocess sampling (2 chains in 2 jobs)\n",
      "NUTS: [Z, Psi2_cholesky_cov_packed__, Psi1_cholesky_cov_packed__, mu2, mu1, W2, W1]\n",
      "  9%|▉         | 93/1000 [00:20<03:15,  4.65it/s]"
     ]
    }
   ],
   "source": [
    "model = pm.Model()\n",
    "\n",
    "with model:\n",
    "    # Priors on Z-lifting matrices\n",
    "    W1_var = pm.Normal('W1', shape=(d1,k))\n",
    "    W2_var = pm.Normal('W2', shape=(d2,k))\n",
    "    \n",
    "    # Priors on X means\n",
    "    mu1_var = pm.Normal('mu1', shape=(d1,1))\n",
    "    mu2_var = pm.Normal('mu2', shape=(d2,1))\n",
    "    \n",
    "    # Priors on covariance matrices\n",
    "    Psi1_var = pm.LKJCholeskyCov(\n",
    "        'Psi1', n=d1, eta=10.0 * d1, sd_dist=pm.HalfCauchy.dist(2.5))\n",
    "    Psi2_var = pm.LKJCholeskyCov(\n",
    "        'Psi2', n=d2, eta=10.0 * d2, sd_dist=pm.HalfCauchy.dist(2.5))\n",
    "    \n",
    "    # SDs for the Xs\n",
    "    L1 = pm.expand_packed_triangular(d1, Psi1_var)\n",
    "    L2 = pm.expand_packed_triangular(d2, Psi2_var)\n",
    "    \n",
    "    # Likelihood on Z\n",
    "    Z_var = pm.MvNormal('Z', mu=np.zeros(k), chol=np.eye(k), shape=(T,k))\n",
    "    \n",
    "    # Means for conditional likelihood on Xs conditioned on Z\n",
    "    Z_lift1_var = pm.Deterministic('Z_lif1', W1_var.dot(Z_var.T).T)\n",
    "    Z_lift2_var = pm.Deterministic('Z_lif2', W2_var.dot(Z_var.T).T)\n",
    "    Z_shift1_var = pm.Deterministic('Z_shift1', Z_lift1_var + mu1_var.T)\n",
    "    Z_shift2_var = pm.Deterministic('Z_lift2', Z_lift2_var + mu2_var.T)\n",
    "    \n",
    "    # Conditional likelihoods of Xs conditioned on Z\n",
    "    X1_var = pm.MvNormal('X1', mu=Z_shift1_var, chol=L1, observed=X1)\n",
    "    X2_var = pm.MvNormal('X2', mu=Z_shift2_var, chol=L2, observed=X2)\n",
    "    \n",
    "    pm.sample(live_plot=True)"
   ]
  },
  {
   "cell_type": "markdown",
   "metadata": {},
   "source": []
  }
 ],
 "metadata": {
  "anaconda-cloud": {},
  "kernelspec": {
   "display_name": "Python [conda root]",
   "language": "python",
   "name": "conda-root-py"
  },
  "language_info": {
   "codemirror_mode": {
    "name": "ipython",
    "version": 3
   },
   "file_extension": ".py",
   "mimetype": "text/x-python",
   "name": "python",
   "nbconvert_exporter": "python",
   "pygments_lexer": "ipython3",
   "version": "3.5.2"
  }
 },
 "nbformat": 4,
 "nbformat_minor": 1
}
